{
 "cells": [
  {
   "cell_type": "code",
   "execution_count": 16,
   "metadata": {},
   "outputs": [],
   "source": [
    "from stable_baselines3 import PPO\n",
    "from game import *"
   ]
  },
  {
   "cell_type": "code",
   "execution_count": 17,
   "metadata": {},
   "outputs": [],
   "source": [
    "#put in a game thats already trained\n",
    "columns = 9\n",
    "rows = 9\n",
    "mines = 10\n",
    "\n",
    "env = game(columns,rows,mines)\n",
    "\n",
    "model = PPO.load(f'PPO-minesweeper-r{rows}c{columns}m{mines}n',env=env)"
   ]
  },
  {
   "cell_type": "code",
   "execution_count": 21,
   "metadata": {},
   "outputs": [
    {
     "name": "stdout",
     "output_type": "stream",
     "text": [
      "66\n",
      "1\n",
      "[[9 9 9 9 9 9 9 9 9]\n",
      " [9 9 9 9 9 9 9 9 9]\n",
      " [9 9 9 9 9 9 9 9 9]\n",
      " [9 9 9 9 9 9 9 9 9]\n",
      " [9 9 9 9 9 9 9 9 9]\n",
      " [9 9 9 9 9 9 9 9 9]\n",
      " [9 9 9 9 9 9 9 9 9]\n",
      " [9 9 9 1 9 9 9 9 9]\n",
      " [9 9 9 9 9 9 9 9 9]]\n",
      "66\n",
      "0\n",
      "[[ 9  9  9  9  9  9  9  9  9]\n",
      " [ 9  9  9  9  9  9  9  9  9]\n",
      " [ 9  9  9  9  9  9  9  9  9]\n",
      " [ 9  9  9  9  9  9  9  9  9]\n",
      " [ 9  9  9  9  9  9  9  9  9]\n",
      " [ 9  9  9  9  9  9  9  9  9]\n",
      " [ 9  9  9  9  9  9  9  9  9]\n",
      " [ 9  9  9 10  9  9  9  9  9]\n",
      " [ 9  9  9  9  9  9  9  9  9]]\n",
      "[0, 1, 'X', 1, 0, 0, 0, 0, 0]\n",
      "[1, 3, 3, 2, 0, 0, 0, 0, 0]\n",
      "[2, 'X', 'X', 1, 0, 0, 0, 0, 0]\n",
      "[2, 'X', 4, 2, 1, 0, 0, 0, 0]\n",
      "[1, 1, 2, 'X', 2, 2, 1, 1, 0]\n",
      "[0, 0, 1, 2, 'X', 2, 'X', 1, 0]\n",
      "[0, 0, 0, 2, 2, 3, 2, 2, 1]\n",
      "[0, 0, 0, 1, 'X', 2, 2, 'X', 1]\n",
      "[0, 1, 1, 2, 1, 2, 'X', 2, 1]\n"
     ]
    }
   ],
   "source": [
    "#plays one game\n",
    "ob = env.reset()\n",
    "while True:\n",
    "        action, _states = model.predict(ob)\n",
    "        ob, rewards, done, info = env.step(action)\n",
    "        print(action)\n",
    "        print(rewards)\n",
    "        print(ob)\n",
    "        if done:\n",
    "            for row in env.grid:\n",
    "                gridrow = []\n",
    "                for cell in row:\n",
    "                    if cell.mine:\n",
    "                        gridrow.append('X')\n",
    "                    elif cell.visible:\n",
    "                        gridrow.append(cell.value)\n",
    "                    else:\n",
    "                        gridrow.append(cell.value)\n",
    "                print(gridrow)\n",
    "            break"
   ]
  },
  {
   "cell_type": "code",
   "execution_count": 19,
   "metadata": {},
   "outputs": [
    {
     "name": "stdout",
     "output_type": "stream",
     "text": [
      "1.965\n"
     ]
    }
   ],
   "source": [
    "#plays 1000 games\n",
    "\n",
    "ob = env.reset()\n",
    "total = 0\n",
    "for i in range(1000):\n",
    "    count = 0\n",
    "    while True:\n",
    "        action, _states = model.predict(ob)\n",
    "        ob, rewards, done, info = env.step(action)\n",
    "        count+=1\n",
    "        if done:\n",
    "            ob = env.reset()\n",
    "            total += count\n",
    "            break\n",
    "print(total/1000)"
   ]
  },
  {
   "cell_type": "code",
   "execution_count": null,
   "metadata": {},
   "outputs": [],
   "source": []
  },
  {
   "cell_type": "code",
   "execution_count": null,
   "metadata": {},
   "outputs": [],
   "source": []
  },
  {
   "cell_type": "code",
   "execution_count": null,
   "metadata": {},
   "outputs": [],
   "source": []
  },
  {
   "cell_type": "code",
   "execution_count": null,
   "metadata": {},
   "outputs": [],
   "source": []
  }
 ],
 "metadata": {
  "interpreter": {
   "hash": "2db524e06e9f5f4ffedc911c917cb75e12dbc923643829bf417064a77eb14d37"
  },
  "kernelspec": {
   "display_name": "Python 3.8.2 64-bit",
   "name": "python3"
  },
  "language_info": {
   "codemirror_mode": {
    "name": "ipython",
    "version": 3
   },
   "file_extension": ".py",
   "mimetype": "text/x-python",
   "name": "python",
   "nbconvert_exporter": "python",
   "pygments_lexer": "ipython3",
   "version": "3.8.2"
  },
  "orig_nbformat": 4
 },
 "nbformat": 4,
 "nbformat_minor": 2
}
